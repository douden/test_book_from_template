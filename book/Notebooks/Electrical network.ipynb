{
 "cells": [
  {
   "cell_type": "markdown",
   "metadata": {
    "deletable": false
   },
   "source": [
    "# Electrical network\n",
    "\n",
    "## Introduction\n",
    "\n",
    "Wait a few seconds until **Python interaction ready!** is shown in the top.\n",
    "\n",
    "**After that follow the instructions in the Grasple Exercise.**\n",
    "\n",
    "On this webpage the system of differential equations\n",
    "\n",
    "$$\n",
    "\\begin{cases} \\dfrac{dI_1}{dt}=-\\left(\\dfrac{R_1+R_2}{L}\\right)I_1+\\dfrac{R_2}{L}I_2,\\\\\\\\ \\dfrac{dI_2}{dt}= -\\left(\\dfrac{R_1+R_2}{L}\\right)I_1+\\left(\\dfrac{R_2}{L}-\\dfrac{1}{R_2C}\\right)I_2,\\end{cases}\n",
    "$$\n",
    "\n",
    "is considered, with initial conditions\n",
    "\n",
    "$$\n",
    "\\left\\{\\begin{array}{rcl}I_1(0) &=&1,\\\\I_2(0)&=&0.\\end{array}\\right.$$\n",
    "\n",
    "\n",
    "This webpage solves this initial-value problem symbolically, using <code>sympy</code>, and then uses <code>numpy</code> and <code>matplotlib</code> to display the obtained *exact* solution."
   ]
  },
  {
   "cell_type": "code",
   "execution_count": null,
   "metadata": {
    "collapsed": true,
    "tags": [
     "auto-execute-page",
     "thebe-remove-input-init"
    ]
   },
   "outputs": [],
   "source": [
    "import micropip\n",
    "await micropip.install(\"ipympl\")\n",
    "# %matplotlib widget\n",
    "%matplotlib ipympl\n",
    "import sympy as sp\n",
    "import numpy as np\n",
    "import matplotlib.pyplot as plt\n",
    "    \n",
    "def Electrical_network(R1,R2,L,C):\n",
    "    \n",
    "    def solve_ivp(R1,R2,L,C):\n",
    "        I10 = 1\n",
    "        I20 = 0\n",
    "        a = -(R1+R2)/L\n",
    "        b = R2/L\n",
    "        c = ( R2/L - 1/R2/C )\n",
    "        t = sp.symbols('t')\n",
    "        I1 = sp.Function('I1')\n",
    "        I2 = sp.Function('I2')\n",
    "        ode = [ sp.diff(I1(t),t) - ( a*I1(t) + b*I2(t) ) , sp.diff(I2(t),t) - (a*I1(t) + c*I2(t) ) ]\n",
    "        sol = sp.dsolve(ode)\n",
    "        sol_new = sol.copy()\n",
    "        for index,s in enumerate(sol):\n",
    "            s = sp.N(s)\n",
    "            # find weird sin's, cos's and exp's and make them contain only floats\n",
    "            sins = s.find(sp.sin)\n",
    "            for x in sins:\n",
    "                arg_x = x.args[0]\n",
    "                s = s.replace(arg_x,sp.N(arg_x))\n",
    "            coss = s.find(sp.cos)\n",
    "            for x in coss:\n",
    "                arg_x = x.args[0]\n",
    "                s = s.replace(arg_x,sp.N(arg_x))\n",
    "            exps = s.find(sp.exp)\n",
    "            for x in exps:\n",
    "                arg_x = x.args[0]\n",
    "                s = s.replace(arg_x,sp.N(arg_x))\n",
    "            sol_new[index] = s\n",
    "\n",
    "        constants = sp.solve([sol_new[0].rhs.subs(t,0)-I10,sol_new[1].rhs.subs(t,0)-I20],sp.symbols('C1 C2'))\n",
    "        I1 = sol_new[0].rhs.subs(constants)\n",
    "        I2 = sol_new[1].rhs.subs(constants)\n",
    "        return I1,I2\n",
    "\n",
    "    t = sp.symbols('t')\n",
    "\n",
    "    I1,I2 = solve_ivp(R1,R2,L,C)\n",
    "\n",
    "    lam_I1 = sp.lambdify(t,I1,modules=['numpy'])\n",
    "    lam_I2 = sp.lambdify(t,I2,modules=['numpy'])\n",
    "    t_end = 40+C\n",
    "    # search for adequate t_end\n",
    "    I1_end = lam_I1(t_end)\n",
    "    I2_end = lam_I2(t_end)\n",
    "    norm_end = np.sqrt(I1_end**2+I2_end**2)\n",
    "    while norm_end>1e-16:\n",
    "        t_end = t_end*10\n",
    "        I1_end = lam_I1(t_end)\n",
    "        I2_end = lam_I2(t_end)\n",
    "        norm_end = np.sqrt(I1_end**2+I2_end**2)\n",
    "    t_vals = np.logspace(-16, np.log10(t_end), 100001)\n",
    "    t_vals[0] = 0\n",
    "    I1_vals = lam_I1(t_vals)\n",
    "    I2_vals = lam_I2(t_vals)\n",
    "\n",
    "    maxI1 = np.max(np.abs(I1_vals))\n",
    "    maxI2 = np.max(np.abs(I2_vals))\n",
    "    maxI = np.max([maxI1,maxI2])\n",
    "\n",
    "    plt.close('all')\n",
    "    fig = plt.figure()\n",
    "    plt.plot(t_vals,I1_vals,label='$I_1$')\n",
    "    plt.plot(t_vals,I2_vals,label='$I_2$')\n",
    "    plt.xlim(0,40+C)\n",
    "    plt.grid()\n",
    "    plt.xlabel('$t$')\n",
    "    plt.ylabel('$Current$')\n",
    "    plt.legend()\n",
    "    # fig.canvas.toolbar_visible = Treue\n",
    "\n",
    "    fig2 = plt.figure()\n",
    "    plt.plot(I1_vals,I2_vals)\n",
    "    plt.xlabel('$I_1(t)$')\n",
    "    plt.ylabel('$I_2(t)$')\n",
    "    plt.axis('equal')\n",
    "    plt.grid();\n",
    "    fig2.canvas.toolbar_visible = False\n",
    "    \n",
    "    pass"
   ]
  },
  {
   "cell_type": "markdown",
   "metadata": {
    "deletable": false
   },
   "source": [
    "## INPUT CELL\n",
    "\n",
    "In the cell below you should put the values of the parameters you see in *Grasple*.\n",
    "\n",
    "*Please note*: Each attempt in Grasple contains different values for the parameters.\n",
    "\n",
    "After you run the cell the results of the calculations are shown with the set parameter values.\n",
    "\n",
    "If you point your mouse below a figure, controls will appear that you can use to pan and zoom."
   ]
  },
  {
   "cell_type": "code",
   "execution_count": null,
   "metadata": {
    "collapsed": true,
    "deletable": false
   },
   "outputs": [],
   "source": [
    "''' Set the given values in the following lines '''\n",
    "R_1 = 0.8\n",
    "R_2 = 2.22\n",
    "L = 1\n",
    "C = 3\n",
    "\n",
    "''' The next line performs the calculations and shows the results. '''\n",
    "Electrical_network(R_1,R_2,L,C)"
   ]
  },
  {
   "cell_type": "code",
   "execution_count": null,
   "metadata": {
    "collapsed": true
   },
   "outputs": [],
   "source": []
  }
 ],
 "metadata": {
  "celltoolbar": "Geen",
  "kernelspec": {
   "display_name": "Python 3 [3.7]",
   "language": "python",
   "name": "python3"
  },
  "language_info": {
   "codemirror_mode": {
    "name": "ipython",
    "version": 3
   },
   "file_extension": ".py",
   "mimetype": "text/x-python",
   "name": "python",
   "nbconvert_exporter": "python",
   "pygments_lexer": "ipython3",
   "version": "3.7.5"
  }
 },
 "nbformat": 4,
 "nbformat_minor": 4
}
